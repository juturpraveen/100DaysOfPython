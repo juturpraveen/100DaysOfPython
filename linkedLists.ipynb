{
  "nbformat": 4,
  "nbformat_minor": 0,
  "metadata": {
    "colab": {
      "name": "linkedLists.ipynb",
      "provenance": [],
      "collapsed_sections": [],
      "include_colab_link": true
    },
    "kernelspec": {
      "name": "python3",
      "display_name": "Python 3"
    }
  },
  "cells": [
    {
      "cell_type": "markdown",
      "metadata": {
        "id": "view-in-github",
        "colab_type": "text"
      },
      "source": [
        "<a href=\"https://colab.research.google.com/github/juturpraveen/100DaysOfPython/blob/master/linkedLists.ipynb\" target=\"_parent\"><img src=\"https://colab.research.google.com/assets/colab-badge.svg\" alt=\"Open In Colab\"/></a>"
      ]
    },
    {
      "cell_type": "code",
      "metadata": {
        "id": "ymswpDRKitAw",
        "colab_type": "code",
        "colab": {}
      },
      "source": [
        "class Node:\n",
        "  def __init__(self, data, next=None):\n",
        "    self.data = data\n",
        "    self.next = next"
      ],
      "execution_count": 0,
      "outputs": []
    },
    {
      "cell_type": "code",
      "metadata": {
        "id": "PCRpSpqOi7FG",
        "colab_type": "code",
        "colab": {}
      },
      "source": [
        "node10 = Node(10)\n",
        "node08 = Node(data=8,next=node10)\n",
        "node06 = Node(6,node08)\n",
        "node04 = Node(4,node06)\n",
        "node02 = Node(2,node04)\n",
        "head = Node(0,node02)"
      ],
      "execution_count": 0,
      "outputs": []
    },
    {
      "cell_type": "code",
      "metadata": {
        "id": "SMl_PsCXjPBL",
        "colab_type": "code",
        "colab": {}
      },
      "source": [
        "def traversLinkedList(head):\n",
        "  if head == None:\n",
        "    print('Empty list.')\n",
        "    return None\n",
        "  node = head\n",
        "  position = 0\n",
        "  while(node.next != None):\n",
        "    print('Position:%d Value:%d' %(position,node.data))\n",
        "    position += 1\n",
        "    node = node.next\n",
        "  if node.next == None:\n",
        "    print('Position:%d Value:%d' %(position,node.data))"
      ],
      "execution_count": 0,
      "outputs": []
    },
    {
      "cell_type": "code",
      "metadata": {
        "id": "w7max-uBkLxg",
        "colab_type": "code",
        "colab": {
          "base_uri": "https://localhost:8080/",
          "height": 121
        },
        "outputId": "b1e30626-8ef5-4ef1-c26f-9734e2184bbd"
      },
      "source": [
        "traversLinkedList(head)"
      ],
      "execution_count": 24,
      "outputs": [
        {
          "output_type": "stream",
          "text": [
            "Position:0 Value:0\n",
            "Position:1 Value:2\n",
            "Position:2 Value:4\n",
            "Position:3 Value:6\n",
            "Position:4 Value:8\n",
            "Position:5 Value:10\n"
          ],
          "name": "stdout"
        }
      ]
    },
    {
      "cell_type": "code",
      "metadata": {
        "id": "dFuGxRP-lPxn",
        "colab_type": "code",
        "colab": {}
      },
      "source": [
        "def insertLinkedList(head, node, position):\n",
        "  if head == None:\n",
        "    print('Empty list, insertion not defined yet.')\n",
        "  if position == 0:\n",
        "    node.next = head\n",
        "    traversLinkedList(node)\n",
        "    return\n",
        "\n",
        "  i=0\n",
        "  insertNow = False\n",
        "  curr = head\n",
        "  while(insertNow == False):\n",
        "    curr = curr.next\n",
        "    i += 1\n",
        "    if i == position:\n",
        "      next = curr.next\n",
        "      insertNow = True\n",
        "    if curr.next == None:\n",
        "      print('List end reached')\n",
        "      break\n",
        "  \n",
        "  if insertNow == True:\n",
        "    \n",
        "\n",
        "\n"
      ],
      "execution_count": 0,
      "outputs": []
    },
    {
      "cell_type": "code",
      "metadata": {
        "id": "mKs2d_8wlhkZ",
        "colab_type": "code",
        "colab": {
          "base_uri": "https://localhost:8080/",
          "height": 35
        },
        "outputId": "16e84b0e-95e5-4a1a-e112-53f990e0da3d"
      },
      "source": [
        ""
      ],
      "execution_count": 20,
      "outputs": [
        {
          "output_type": "stream",
          "text": [
            "99\n"
          ],
          "name": "stdout"
        }
      ]
    },
    {
      "cell_type": "code",
      "metadata": {
        "id": "SI_CGGheljG6",
        "colab_type": "code",
        "colab": {}
      },
      "source": [
        "# delete node from linked list\n",
        "# reverse the linked list\n",
        "# reverse part of the linked list"
      ],
      "execution_count": 0,
      "outputs": []
    }
  ]
}