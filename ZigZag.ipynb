{
  "nbformat": 4,
  "nbformat_minor": 0,
  "metadata": {
    "colab": {
      "name": "ZigZag.ipynb",
      "provenance": [],
      "include_colab_link": true
    },
    "kernelspec": {
      "name": "python3",
      "display_name": "Python 3"
    }
  },
  "cells": [
    {
      "cell_type": "markdown",
      "metadata": {
        "id": "view-in-github",
        "colab_type": "text"
      },
      "source": [
        "<a href=\"https://colab.research.google.com/github/juturpraveen/100DaysOfPython/blob/master/ZigZag.ipynb\" target=\"_parent\"><img src=\"https://colab.research.google.com/assets/colab-badge.svg\" alt=\"Open In Colab\"/></a>"
      ]
    },
    {
      "cell_type": "code",
      "metadata": {
        "id": "cfY_Gmpy2KQ6",
        "colab_type": "code",
        "colab": {}
      },
      "source": [
        "str = 'NATIONWIDEINSURANCEISGOOD'\n",
        "k   = 4"
      ],
      "execution_count": 0,
      "outputs": []
    },
    {
      "cell_type": "code",
      "metadata": {
        "id": "2f_MKgeA2rK9",
        "colab_type": "code",
        "colab": {
          "base_uri": "https://localhost:8080/",
          "height": 35
        },
        "outputId": "3a74ba9b-1486-48f1-cf10-1b399a10e50f"
      },
      "source": [
        "l = len(str)\n",
        "print(l)"
      ],
      "execution_count": 2,
      "outputs": [
        {
          "output_type": "stream",
          "text": [
            "25\n"
          ],
          "name": "stdout"
        }
      ]
    },
    {
      "cell_type": "code",
      "metadata": {
        "id": "_O211_wF2tnl",
        "colab_type": "code",
        "colab": {
          "base_uri": "https://localhost:8080/",
          "height": 35
        },
        "outputId": "b0c4b14c-b40f-4b11-ad53-c0104a323192"
      },
      "source": [
        "rows = [\"\" for x in range(k)]\n",
        "print(rows)"
      ],
      "execution_count": 27,
      "outputs": [
        {
          "output_type": "stream",
          "text": [
            "['', '', '', '']\n"
          ],
          "name": "stdout"
        }
      ]
    },
    {
      "cell_type": "code",
      "metadata": {
        "id": "CICMtorW4PR3",
        "colab_type": "code",
        "colab": {}
      },
      "source": [
        "backwards = False\n",
        "key = 0\n",
        "for i in range(l):\n",
        "  rows[key] += str[i]\n",
        "\n",
        "  if key == k-1:\n",
        "    backwards = True\n",
        "  elif key == 0:\n",
        "    backwards = False\n",
        "\n",
        "  if backwards == True:\n",
        "    key -= 1\n",
        "  else:\n",
        "    key += 1"
      ],
      "execution_count": 0,
      "outputs": []
    },
    {
      "cell_type": "code",
      "metadata": {
        "id": "zqHCiYUC4viH",
        "colab_type": "code",
        "colab": {
          "base_uri": "https://localhost:8080/",
          "height": 35
        },
        "outputId": "6bf82f41-8172-4aba-f6d4-4ecdc174632c"
      },
      "source": [
        "print(rows)"
      ],
      "execution_count": 29,
      "outputs": [
        {
          "output_type": "stream",
          "text": [
            "['NWSED', 'ANINUCIO', 'TODIRNSO', 'IEAG']\n"
          ],
          "name": "stdout"
        }
      ]
    },
    {
      "cell_type": "code",
      "metadata": {
        "id": "pSs1d8-j7faV",
        "colab_type": "code",
        "colab": {
          "base_uri": "https://localhost:8080/",
          "height": 35
        },
        "outputId": "ecd7db53-7bd5-4a70-b175-1f85e4e5c9e3"
      },
      "source": [
        "final = ''.join(s for s in rows)\n",
        "print(final)"
      ],
      "execution_count": 45,
      "outputs": [
        {
          "output_type": "stream",
          "text": [
            "NWSEDANINUCIOTODIRNSOIEAG\n"
          ],
          "name": "stdout"
        }
      ]
    }
  ]
}