{
  "nbformat": 4,
  "nbformat_minor": 0,
  "metadata": {
    "colab": {
      "name": "BinaryTree.ipynb",
      "provenance": [],
      "include_colab_link": true
    },
    "kernelspec": {
      "name": "python3",
      "display_name": "Python 3"
    }
  },
  "cells": [
    {
      "cell_type": "markdown",
      "metadata": {
        "id": "view-in-github",
        "colab_type": "text"
      },
      "source": [
        "<a href=\"https://colab.research.google.com/github/juturpraveen/100DaysOfPython/blob/master/BinaryTree.ipynb\" target=\"_parent\"><img src=\"https://colab.research.google.com/assets/colab-badge.svg\" alt=\"Open In Colab\"/></a>"
      ]
    },
    {
      "cell_type": "code",
      "metadata": {
        "id": "eMjyvhC3jXTm",
        "colab_type": "code",
        "colab": {}
      },
      "source": [
        "class Node:\n",
        "  def __init__(self, value, right=None, left=None):\n",
        "    self.data = value\n",
        "    self.right = right\n",
        "    self.left = left\n",
        "\n",
        "  def insertNode(node,value):\n",
        "    if value >= node.data:\n",
        "      if node.right == None:\n",
        "        node.right = Node(value)\n",
        "      else:\n",
        "        print('Going right')\n",
        "        insertNode(node.right, value)\n",
        "    else:\n",
        "      if node.left == None:\n",
        "        node.left = Node(value)\n",
        "      else:\n",
        "        print('Going left')\n",
        "        insertNode(node.left, value)\n",
        "    return\n",
        "\n",
        "  def searchNode(node,value):\n",
        "    if node.data == value:\n",
        "      return True\n",
        "    elif value > node.data and node.right != None:\n",
        "      searchNode(node.right, value)\n",
        "    elif value > node.data and node.right == None:\n",
        "      return None\n",
        "    elif value < node.data and node.left != None:\n",
        "      searchNode(node.left,value)\n",
        "    elif value < node.data and node.left == Node:\n",
        "      return None"
      ],
      "execution_count": 0,
      "outputs": []
    },
    {
      "cell_type": "code",
      "metadata": {
        "id": "-fAmGJnujmCG",
        "colab_type": "code",
        "colab": {}
      },
      "source": [
        ""
      ],
      "execution_count": 0,
      "outputs": []
    }
  ]
}