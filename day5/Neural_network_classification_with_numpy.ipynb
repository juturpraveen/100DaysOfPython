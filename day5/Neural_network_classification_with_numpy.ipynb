{
 "cells": [
  {
   "cell_type": "code",
   "execution_count": 38,
   "metadata": {},
   "outputs": [],
   "source": [
    "import numpy as np\n",
    "import pprint as pp"
   ]
  },
  {
   "cell_type": "code",
   "execution_count": 40,
   "metadata": {},
   "outputs": [],
   "source": [
    "np.random.seed(2)"
   ]
  },
  {
   "cell_type": "code",
   "execution_count": 45,
   "metadata": {},
   "outputs": [],
   "source": [
    "icats = np.random.randn(500,2) + np.array([0,3])\n",
    "idogs = np.random.randn(600,2) + np.array([0, -3])\n",
    "irats = np.random.randn(700,2) + np.array([3,3])"
   ]
  },
  {
   "cell_type": "code",
   "execution_count": 63,
   "metadata": {},
   "outputs": [],
   "source": [
    "inputs = np.vstack([icats, idogs, irats])"
   ]
  },
  {
   "cell_type": "code",
   "execution_count": 90,
   "metadata": {},
   "outputs": [],
   "source": [
    "elabels = np.array([0]*500 + [1]*600 + [2]*700)"
   ]
  },
  {
   "cell_type": "code",
   "execution_count": 62,
   "metadata": {},
   "outputs": [],
   "source": [
    "oneHotLabels = np.zeros((len(elabels), 3))\n",
    "for i in range(len(oneHotLabels)):\n",
    "    oneHotLabels[i, elabels[i]] = 1"
   ]
  },
  {
   "cell_type": "code",
   "execution_count": 47,
   "metadata": {},
   "outputs": [],
   "source": [
    "h_nodes = 4\n",
    "o_nodes = 3"
   ]
  },
  {
   "cell_type": "code",
   "execution_count": 73,
   "metadata": {},
   "outputs": [
    {
     "data": {
      "text/plain": [
       "array([[-0.22263398,  0.89484451, -1.42342295,  0.79503913],\n",
       "       [-1.13442954,  1.13309232, -0.92986841, -0.6399618 ]])"
      ]
     },
     "execution_count": 73,
     "metadata": {},
     "output_type": "execute_result"
    }
   ],
   "source": [
    "# Normal Distribution\n",
    "wh_n = np.random.randn(2, h_nodes)\n",
    "wh_n"
   ]
  },
  {
   "cell_type": "code",
   "execution_count": 74,
   "metadata": {},
   "outputs": [
    {
     "data": {
      "text/plain": [
       "array([[0.48956129, 0.74137849, 0.64827354, 0.13606039],\n",
       "       [0.71971312, 0.49730462, 0.62929536, 0.10778302]])"
      ]
     },
     "execution_count": 74,
     "metadata": {},
     "output_type": "execute_result"
    }
   ],
   "source": [
    "# Random distribution\n",
    "wh_u = np.random.rand(2, h_nodes)\n",
    "wh_u"
   ]
  },
  {
   "cell_type": "code",
   "execution_count": 75,
   "metadata": {},
   "outputs": [
    {
     "data": {
      "text/plain": [
       "array([[ 1.38162947,  0.84126797,  0.13042701],\n",
       "       [-0.42742182, -0.55765199,  1.63661091],\n",
       "       [-0.2155254 ,  1.43530239,  1.48810999],\n",
       "       [-0.20924528, -2.30751849, -0.26943416]])"
      ]
     },
     "execution_count": 75,
     "metadata": {},
     "output_type": "execute_result"
    }
   ],
   "source": [
    "wo_n = np.random.randn(h_nodes, o_nodes)\n",
    "wo_n"
   ]
  },
  {
   "cell_type": "code",
   "execution_count": 76,
   "metadata": {},
   "outputs": [
    {
     "data": {
      "text/plain": [
       "array([[-0.99551769,  0.02383396, -0.64000418],\n",
       "       [ 0.01760715,  1.49340464,  0.89976621],\n",
       "       [-1.18647921,  0.11068749, -1.11833406],\n",
       "       [ 2.22379007,  1.12493334, -1.12995345]])"
      ]
     },
     "execution_count": 76,
     "metadata": {},
     "output_type": "execute_result"
    }
   ],
   "source": [
    "wo_u = np.random.randn(h_nodes, o_nodes)\n",
    "wo_u"
   ]
  },
  {
   "cell_type": "code",
   "execution_count": 95,
   "metadata": {},
   "outputs": [],
   "source": [
    "bh = np.random.randn(h_nodes)\n",
    "bo = np.random.randn(o_nodes)"
   ]
  },
  {
   "cell_type": "code",
   "execution_count": 77,
   "metadata": {},
   "outputs": [],
   "source": [
    "#Sigmoid activation:\n",
    "def sigmoidActivation(x):\n",
    "    return 1/(1+np.exp(-x))"
   ]
  },
  {
   "cell_type": "code",
   "execution_count": 106,
   "metadata": {},
   "outputs": [],
   "source": [
    "#Softmax activation:\n",
    "def softmaxActivation(vec):\n",
    "    expVec = np.exp(vec)\n",
    "#     return expVec/sum(expVec)\n",
    "    return expVec/expVec.sum(axis=1, keepdims=True)"
   ]
  },
  {
   "cell_type": "code",
   "execution_count": 107,
   "metadata": {},
   "outputs": [],
   "source": [
    "def forwardPropagation(inputs, wh, wo):\n",
    "    zh = np.dot(inputs, wh) + bh\n",
    "    ah = sigmoidActivation(zh)\n",
    "    \n",
    "    zo = np.dot(ah,wo) + bo\n",
    "    ao = softmaxActivation(zo)\n",
    "    \n",
    "    return zh, ah, zo, ao\n",
    "    "
   ]
  },
  {
   "cell_type": "code",
   "execution_count": 108,
   "metadata": {},
   "outputs": [],
   "source": [
    "zh, ah, zo, ao = forwardPropagation(inputs, wh_n, wo_n)"
   ]
  },
  {
   "cell_type": "code",
   "execution_count": 112,
   "metadata": {},
   "outputs": [
    {
     "name": "stdout",
     "output_type": "stream",
     "text": [
      "zh shape:  (1800, 4)\n",
      "ah shape:  (1800, 4)\n",
      "zo shape:  (1800, 3)\n",
      "ao shape:  (1800, 3)\n",
      "[[0.039464   0.01439242 0.94614358]\n",
      " [0.05983229 0.00628863 0.93387908]\n",
      " [0.05255722 0.00970719 0.93773559]]\n",
      "0.9999999999999999\n"
     ]
    }
   ],
   "source": [
    "print('zh shape: ', zh.shape)\n",
    "print('ah shape: ', ah.shape)\n",
    "print('zo shape: ', zo.shape)\n",
    "print('ao shape: ', ao.shape)\n",
    "\n",
    "print(ao[0:3])\n",
    "print(ao[0].sum())"
   ]
  },
  {
   "cell_type": "code",
   "execution_count": 119,
   "metadata": {},
   "outputs": [],
   "source": [
    "def sigmoidDerivative(x):\n",
    "    return sigmoidActivation(x)*(1 - sigmoidActivation(x))"
   ]
  },
  {
   "cell_type": "code",
   "execution_count": 135,
   "metadata": {},
   "outputs": [],
   "source": [
    "def backPropagationValues(inputs,zh, ah, zo, ao):\n",
    "    dcost_dzo = ao - oneHotLabels\n",
    "    dzo_dwo = ah\n",
    "    dcost_dwo = np.dot(dzo_dwo.T, dcost_dzo)\n",
    "    dcost_dbo = ao - oneHotLabels\n",
    "    \n",
    "    dzo_dah = wo_n\n",
    "    dcost_dah = np.dot(dcost_dzo , dzo_dah.T)\n",
    "    dah_dzh = sigmoidDerivative(zh)\n",
    "    dzh_dwh = inputs\n",
    "    dcost_dwh = np.dot(dzh_dwh.T, dah_dzh * dcost_dah)\n",
    "    dcost_dbh = dcost_dah * dah_dzh\n",
    "    \n",
    "    return dcost_dwo, dcost_dbo, dcost_dwh, dcost_dbh"
   ]
  },
  {
   "cell_type": "code",
   "execution_count": 136,
   "metadata": {},
   "outputs": [],
   "source": [
    "dcost_dwo, dcost_dbo, dcost_dwh, dcost_dbh =backPropagationValues(inputs,zh, ah, zo, ao)\n"
   ]
  },
  {
   "cell_type": "code",
   "execution_count": 137,
   "metadata": {},
   "outputs": [
    {
     "data": {
      "text/plain": [
       "(2, 4)"
      ]
     },
     "execution_count": 137,
     "metadata": {},
     "output_type": "execute_result"
    }
   ],
   "source": [
    "dcost_dwh.shape"
   ]
  },
  {
   "cell_type": "code",
   "execution_count": 147,
   "metadata": {},
   "outputs": [
    {
     "name": "stdout",
     "output_type": "stream",
     "text": [
      "Loss:  0.24596705941951783\n",
      "Loss:  0.23782719702400273\n",
      "Loss:  0.23020469067931673\n",
      "Loss:  0.22305180804305022\n",
      "Loss:  0.21632650903699904\n",
      "Loss:  0.20999162255897308\n",
      "Loss:  0.2040141619640232\n",
      "Loss:  0.19836475278628607\n",
      "Loss:  0.19301715181261675\n",
      "Loss:  0.18794784094568212\n",
      "Loss:  0.18313568263772148\n",
      "Loss:  0.17856162627992025\n",
      "Loss:  0.17420845697249743\n",
      "Loss:  0.17006057971039196\n",
      "Loss:  0.16610383329726688\n",
      "Loss:  0.1623253293202884\n",
      "Loss:  0.15871331233694624\n",
      "Loss:  0.15525703808599023\n",
      "Loss:  0.15194666707020452\n",
      "Loss:  0.14877317129547205\n",
      "Loss:  0.14572825230796924\n",
      "Loss:  0.14280426896519594\n",
      "Loss:  0.13999417361897987\n",
      "Loss:  0.1372914555901303\n",
      "Loss:  0.1346900909811443\n",
      "Loss:  0.13218449801361262\n",
      "Loss:  0.12976949719385233\n",
      "Loss:  0.12744027570893318\n",
      "Loss:  0.12519235553810074\n",
      "Loss:  0.12302156483534027\n",
      "Loss:  0.12092401219817323\n",
      "Loss:  0.11889606348882348\n",
      "Loss:  0.11693432091727345\n",
      "Loss:  0.11503560413278852\n",
      "Loss:  0.11319693310256207\n",
      "Loss:  0.1114155125834126\n",
      "Loss:  0.10968871801634117\n",
      "Loss:  0.10801408269401216\n",
      "Loss:  0.10638928606927353\n",
      "Loss:  0.10481214308783383\n",
      "Loss:  0.10328059444218224\n",
      "Loss:  0.10179269765505655\n",
      "Loss:  0.1003466189112276\n",
      "Loss:  0.09894062556539963\n",
      "Loss:  0.09757307926176456\n",
      "Loss:  0.09624242960767071\n",
      "Loss:  0.09494720835011554\n",
      "Loss:  0.09368602400892609\n",
      "Loss:  0.09245755692537977\n",
      "Loss:  0.09126055468933936\n",
      "Loss:  0.09009382791137205\n",
      "Loss:  0.08895624630992585\n",
      "Loss:  0.0878467350865871\n",
      "Loss:  0.08676427156479166\n",
      "Loss:  0.08570788207005785\n",
      "Loss:  0.08467663903162255\n",
      "Loss:  0.0836696582874706\n",
      "Loss:  0.08268609657610351\n",
      "Loss:  0.08172514920033745\n",
      "Loss:  0.08078604784938435\n",
      "Loss:  0.07986805856682336\n",
      "Loss:  0.0789704798532746\n",
      "Loss:  0.07809264089341417\n",
      "Loss:  0.07723389989791316\n",
      "Loss:  0.076393642551698\n",
      "Loss:  0.07557128056075633\n",
      "Loss:  0.07476625029010373\n",
      "Loss:  0.07397801148638763\n",
      "Loss:  0.0732060460791361\n",
      "Loss:  0.07244985705489093\n",
      "Loss:  0.07170896739924272\n",
      "Loss:  0.07098291910196332\n",
      "Loss:  0.07027127222090883\n",
      "Loss:  0.06957360400073218\n",
      "Loss:  0.06888950804259612\n",
      "Loss:  0.06821859352154773\n",
      "Loss:  0.06756048444838818\n",
      "Loss:  0.06691481897310766\n",
      "Loss:  0.06628124872716039\n",
      "Loss:  0.06565943820208382\n",
      "Loss:  0.06504906416218711\n",
      "Loss:  0.06444981508907298\n",
      "Loss:  0.0638613906560616\n",
      "Loss:  0.06328350123061859\n",
      "Loss:  0.06271586740307021\n",
      "Loss:  0.06215821954007449\n",
      "Loss:  0.061610297361128594\n",
      "Loss:  0.061071849537039105\n",
      "Loss:  0.06054263330880327\n",
      "Loss:  0.060022414125808846\n",
      "Loss:  0.05951096530217095\n",
      "Loss:  0.059008067690197404\n",
      "Loss:  0.05851350936999862\n",
      "Loss:  0.05802708535423169\n",
      "Loss:  0.057548597307253604\n",
      "Loss:  0.05707785327777895\n",
      "Loss:  0.05661466744430347\n",
      "Loss:  0.056158859872652164\n",
      "Loss:  0.05571025628486173\n",
      "Loss:  0.05526868783894878\n"
     ]
    }
   ],
   "source": [
    "epochs = 500000\n",
    "epochPrintRate = 5000\n",
    "learning_rate = 0.01\n",
    "epoch_loss = []\n",
    "lr = 10e-4\n",
    "for i in range(epochs):\n",
    "    zh, ah, zo, ao = forwardPropagation(inputs, wh_n, wo_n)\n",
    "    dcost_dwo, dcost_dbo, dcost_dwh, dcost_dbh =backPropagationValues(inputs,zh, ah, zo, ao)\n",
    "    wo_n = wo_n - (learning_rate * dcost_dwo)\n",
    "    bo   = bo - (learning_rate * dcost_dbo)\n",
    "    wh_n = wh_n - (learning_rate * dcost_dwh)\n",
    "    bh   = bh - (learning_rate * dcost_dbh)\n",
    "    if i % epochPrintRate == 0:\n",
    "        loss = np.sum(-oneHotLabels*np.log(ao))\n",
    "        print('Loss: ', loss)\n",
    "        \n",
    "        \n",
    "        \n",
    "    "
   ]
  },
  {
   "cell_type": "code",
   "execution_count": 145,
   "metadata": {},
   "outputs": [],
   "source": [
    "ep_ls = []\n",
    "ep_ls.append([1,2])"
   ]
  },
  {
   "cell_type": "code",
   "execution_count": 146,
   "metadata": {},
   "outputs": [
    {
     "data": {
      "text/plain": [
       "[[1, 2]]"
      ]
     },
     "execution_count": 146,
     "metadata": {},
     "output_type": "execute_result"
    }
   ],
   "source": [
    "ep_ls"
   ]
  },
  {
   "cell_type": "code",
   "execution_count": 149,
   "metadata": {},
   "outputs": [
    {
     "name": "stdout",
     "output_type": "stream",
     "text": [
      "[3.93581320e-06 4.28790551e-11 9.99996064e-01]\n"
     ]
    }
   ],
   "source": [
    "print(ao[-1])"
   ]
  },
  {
   "cell_type": "code",
   "execution_count": null,
   "metadata": {},
   "outputs": [],
   "source": []
  }
 ],
 "metadata": {
  "kernelspec": {
   "display_name": "Python 3",
   "language": "python",
   "name": "python3"
  },
  "language_info": {
   "codemirror_mode": {
    "name": "ipython",
    "version": 3
   },
   "file_extension": ".py",
   "mimetype": "text/x-python",
   "name": "python",
   "nbconvert_exporter": "python",
   "pygments_lexer": "ipython3",
   "version": "3.7.4"
  }
 },
 "nbformat": 4,
 "nbformat_minor": 2
}
