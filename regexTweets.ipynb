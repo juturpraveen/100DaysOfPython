{
  "nbformat": 4,
  "nbformat_minor": 0,
  "metadata": {
    "colab": {
      "name": "regexTweets.ipynb",
      "provenance": [],
      "include_colab_link": true
    },
    "kernelspec": {
      "name": "python3",
      "display_name": "Python 3"
    }
  },
  "cells": [
    {
      "cell_type": "markdown",
      "metadata": {
        "id": "view-in-github",
        "colab_type": "text"
      },
      "source": [
        "<a href=\"https://colab.research.google.com/github/juturpraveen/100DaysOfPython/blob/master/regexTweets.ipynb\" target=\"_parent\"><img src=\"https://colab.research.google.com/assets/colab-badge.svg\" alt=\"Open In Colab\"/></a>"
      ]
    },
    {
      "cell_type": "code",
      "metadata": {
        "id": "by7bIyn3tA2G",
        "colab_type": "code",
        "colab": {}
      },
      "source": [
        "import re\n",
        "import string"
      ],
      "execution_count": 0,
      "outputs": []
    },
    {
      "cell_type": "code",
      "metadata": {
        "id": "5jdRbNIdtDw7",
        "colab_type": "code",
        "colab": {}
      },
      "source": [
        "tweetWithUrl = '@gratefuldead recordstoredayus is are good new and 🌹🌹🌹 @ TOMS MUSIC TRADE https://t.co/CURRmn6iJo'"
      ],
      "execution_count": 0,
      "outputs": []
    },
    {
      "cell_type": "code",
      "metadata": {
        "id": "THHI2FNdwqX_",
        "colab_type": "code",
        "colab": {}
      },
      "source": [
        "userPattern = r'@\\w+'\n",
        "userObj = re.compile(userPattern)"
      ],
      "execution_count": 0,
      "outputs": []
    },
    {
      "cell_type": "code",
      "metadata": {
        "id": "IVfNE-z6BZ9-",
        "colab_type": "code",
        "colab": {}
      },
      "source": [
        "urlPattern = r'((http|ftp|https):\\/\\/)?[\\w\\-_]+(\\.[\\w\\-_]+)+([\\w\\-\\.,@?^=%&amp;:/~\\+#]*[\\w\\-\\@?^=%&amp;/~\\+#])?'\n",
        "urlObj = re.compile(urlPattern)"
      ],
      "execution_count": 0,
      "outputs": []
    },
    {
      "cell_type": "code",
      "metadata": {
        "id": "HTRTJ11UTWO2",
        "colab_type": "code",
        "colab": {}
      },
      "source": [
        "emojiObj = re.compile('[\\U00010000-\\U0010ffff]', flags=re.UNICODE)"
      ],
      "execution_count": 0,
      "outputs": []
    },
    {
      "cell_type": "code",
      "metadata": {
        "id": "8wGXx1kdwPdv",
        "colab_type": "code",
        "colab": {
          "base_uri": "https://localhost:8080/",
          "height": 104
        },
        "outputId": "10ec598c-6c15-4281-e3fd-727b8b932a78"
      },
      "source": [
        "print(tweetWithUrl)\n",
        "cleanTweet = userObj.sub('', tweetWithUrl)\n",
        "print(cleanTweet)\n",
        "cleanTweet = urlObj.sub('', cleanTweet)\n",
        "print(cleanTweet)\n",
        "puncTab = cleanTweet.maketrans('','',string.punctuation)\n",
        "cleanTweet = cleanTweet.translate(puncTab)\n",
        "print(cleanTweet)\n",
        "cleanTweet = emojiObj.sub('', cleanTweet)\n",
        "print(cleanTweet)"
      ],
      "execution_count": 8,
      "outputs": [
        {
          "output_type": "stream",
          "text": [
            "@gratefuldead recordstoredayus is are good new and 🌹🌹🌹 @ TOMS MUSIC TRADE https://t.co/CURRmn6iJo\n",
            " recordstoredayus is are good new and 🌹🌹🌹 @ TOMS MUSIC TRADE https://t.co/CURRmn6iJo\n",
            " recordstoredayus is are good new and 🌹🌹🌹 @ TOMS MUSIC TRADE \n",
            " recordstoredayus is are good new and 🌹🌹🌹  TOMS MUSIC TRADE \n",
            " recordstoredayus is are good new and   TOMS MUSIC TRADE \n"
          ],
          "name": "stdout"
        }
      ]
    },
    {
      "cell_type": "code",
      "metadata": {
        "id": "nlh1L2WhKdFU",
        "colab_type": "code",
        "colab": {
          "base_uri": "https://localhost:8080/",
          "height": 69
        },
        "outputId": "258ad94b-fbc1-49ec-c342-76b28b18920a"
      },
      "source": [
        "print(type(cleanTweet))\n",
        "cleanTweet = ' '.join([word for word in cleanTweet.split() if len(word) > 3])\n",
        "print(type(cleanTweet))\n",
        "print(cleanTweet)"
      ],
      "execution_count": 9,
      "outputs": [
        {
          "output_type": "stream",
          "text": [
            "<class 'str'>\n",
            "<class 'str'>\n",
            "recordstoredayus good TOMS MUSIC TRADE\n"
          ],
          "name": "stdout"
        }
      ]
    },
    {
      "cell_type": "code",
      "metadata": {
        "id": "FAyjbLwzDpjt",
        "colab_type": "code",
        "colab": {}
      },
      "source": [
        "\n"
      ],
      "execution_count": 0,
      "outputs": []
    },
    {
      "cell_type": "code",
      "metadata": {
        "id": "ko72AoQ3EtzS",
        "colab_type": "code",
        "colab": {}
      },
      "source": [
        ""
      ],
      "execution_count": 0,
      "outputs": []
    }
  ]
}