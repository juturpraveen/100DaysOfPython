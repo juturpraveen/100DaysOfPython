{
 "cells": [
  {
   "cell_type": "markdown",
   "metadata": {},
   "source": [
    "Simple Neural Network Setup\n",
    "1. Input layer (#features for each input) - 7 for seeds dataset\n",
    "2. Hidden layer(#input_layer_neurons + 1 for bias) - Assume 4 for now\n",
    "3. Output layer(#hidden_layer_neurons + 1 for bias) - 3 for 3 output classes"
   ]
  },
  {
   "cell_type": "code",
   "execution_count": 1,
   "metadata": {},
   "outputs": [],
   "source": [
    "from random import seed\n",
    "from random import random\n",
    "from math import exp\n",
    "import pprint as pp"
   ]
  },
  {
   "cell_type": "markdown",
   "metadata": {},
   "source": [
    "Weights:\n",
    "1. Each neuron in hidden layer should consist one weight for each input(feature) + one weight for bias\n",
    "2. Here we have 7 features, so each hidden_layer_neuron should have (7+1 = 8) weights\n",
    "3. Since we have 4 hidden_layer_neurons we need to have 4*8 weights\n",
    "\n",
    "hidden_layer below is list of 4 weights, one for each hidden neuron of hidden layer\n",
    "\n",
    "Lets do the same thing for output layer too. output_layer has 3 neurons(one for each kind of seed). Each of the output neuron gets input from all 4 hidden layer neurons. So output_layer is a list of 3 dictionaries and each dictionary holds a list of 4 weights.\n",
    "\n",
    "Lets combine above steps into a function"
   ]
  },
  {
   "cell_type": "code",
   "execution_count": 2,
   "metadata": {},
   "outputs": [],
   "source": [
    "def buildNetwork(n_input, n_hidden, n_output):\n",
    "    network = []\n",
    "#     print(n_input, n_hidden)\n",
    "    hidden_layer = [{'weights':[random() for i in range(n_input+1)]} for i in range(n_hidden)]\n",
    "    network.append(hidden_layer)\n",
    "    output_layer = [{'weights':[random() for i in range(n_hidden+1)]} for i in range(n_output)]\n",
    "    network.append(output_layer)\n",
    "    return network"
   ]
  },
  {
   "cell_type": "code",
   "execution_count": 3,
   "metadata": {},
   "outputs": [],
   "source": [
    "seed(10)\n",
    "# networkSeeds = buildNetwork(7,4,3)\n",
    "\n",
    "# print('Total number of layers in network(excluding input layer):',len(networkSeeds))\n",
    "# print('Number of hidden layers:', len(networkSeeds[0]))\n",
    "# # print(networkTest[0])\n",
    "# print('Number of output layers:', len(networkSeeds[1]))\n",
    "# # print(networkTest[1])\n",
    "# pp.pprint(networkSeeds)"
   ]
  },
  {
   "cell_type": "markdown",
   "metadata": {},
   "source": [
    "Now that we have all pieces in place, its time to do some calculations.\n",
    "1. Neuron's output: Each neuron output is the is the dot product of its inputs and weights and bias added to the dot product\n",
    "    - @each_neuron_output: (for all inputs input[i] * weights[i])+bias.\n",
    "    - Each of the input's feature needs to be converted into float as it is stored as string in the list/file."
   ]
  },
  {
   "cell_type": "code",
   "execution_count": 4,
   "metadata": {},
   "outputs": [],
   "source": [
    "def calculateOutput(input_features, layer_n):\n",
    "    output = []\n",
    "    product = 0\n",
    "    bias = 0\n",
    "    for eachNeuron in layer_n:\n",
    "        wlist = eachNeuron['weights']\n",
    "        bias = wlist[-1]\n",
    "        for i in range(len(input_features)):\n",
    "            product = product + float(input_features[i]) * wlist[i]\n",
    "        eachNeuron['output'] = activation((product + bias))\n",
    "#         pp.pprint(eachNeuron)\n",
    "        output.append(activation((product + bias)))\n",
    "#     pp.pprint(layer_n)\n",
    "    return output\n",
    "\n",
    "# test_output_hidden = calculateOutput([1.12,2.23,3.34,4.45,5.56,6.67,7.78], networkSeeds[0])\n",
    "# test_output_final = calculateOutput(test_output_hidden, networkSeeds[1])\n",
    "\n",
    "# print('Output of hidden layer prior to activation:',test_output_hidden)\n",
    "# print('Output of final layer prior to activation:',test_output_final)"
   ]
  },
  {
   "cell_type": "markdown",
   "metadata": {},
   "source": [
    "Now the neuron_output is not passed on to the next layer as it is. An activation function is applied to the neuron_output and that result is passed to the next layer. (My understanding as to why I need activation function is foggy at that moment, need to explore that)\n",
    "\n",
    "Here I use sigmoid activation among many other options.\n",
    "    - sigmoid_activation = 1/(1 + e(-neuron_output))"
   ]
  },
  {
   "cell_type": "code",
   "execution_count": 5,
   "metadata": {},
   "outputs": [],
   "source": [
    "def sigmoidActivation(layer_output):\n",
    "    activatedOutput = []\n",
    "    for eachNeuronOutput in layer_output:\n",
    "        activatedOutput.append(1/(1 + exp(-eachNeuronOutput)))\n",
    "    return activatedOutput\n",
    "\n",
    "def activation(output):\n",
    "    activation = 1/(1 + exp(-output))\n",
    "    return activation\n",
    "\n",
    "\n",
    "# activatedOutputHidden = sigmoidActivation(test_output_hidden)\n",
    "# activatedOutputFinal = sigmoidActivation(test_output_final)\n",
    "# print('Activated output of hidden layer:', activatedOutputHidden)\n",
    "# print('Activated output of final layer:', activatedOutputFinal)"
   ]
  },
  {
   "cell_type": "markdown",
   "metadata": {},
   "source": [
    "Forward propagation: Calculate output of each layer and provide it as input to next layer untill final output layer is reached. "
   ]
  },
  {
   "cell_type": "code",
   "execution_count": 6,
   "metadata": {},
   "outputs": [],
   "source": [
    "import csv\n",
    "with open('wheat-seeds.csv', 'r') as f:\n",
    "    reader = csv.reader(f)\n",
    "    input_seeds_list = list(reader)\n",
    "# input_seeds_list = [float(i) for i in input_seeds_list]\n",
    "temp_input_list = []\n",
    "expected = []\n",
    "for eachList in input_seeds_list:\n",
    "    expected.append(eachList[-1])\n",
    "    del eachList[-1]\n",
    "    for i in range(len(eachList)):\n",
    "        eachList[i] = float(eachList[i])\n",
    "    temp_input_list.append(eachList)\n",
    "input_seeds_list = temp_input_list "
   ]
  },
  {
   "cell_type": "markdown",
   "metadata": {},
   "source": [
    "Make the expected output into one-hot vector"
   ]
  },
  {
   "cell_type": "code",
   "execution_count": 7,
   "metadata": {},
   "outputs": [
    {
     "name": "stdout",
     "output_type": "stream",
     "text": [
      "[0, 0, 1]\n"
     ]
    }
   ],
   "source": [
    "expected_list = []\n",
    "max_class = max(expected)\n",
    "min_class = min(expected)\n",
    "# print(min_class)\n",
    "# print(max_class)\n",
    "for eachClass in expected:\n",
    "    exp_vec = [0,0,0]\n",
    "    for i in range(int(max_class)):\n",
    "        if i == int(eachClass) - 1:\n",
    "            exp_vec[i] = 1\n",
    "        else:\n",
    "            exp_vec[i] = 0\n",
    "    expected_list.append(exp_vec)\n",
    "print(expected_list[-1])"
   ]
  },
  {
   "cell_type": "code",
   "execution_count": 8,
   "metadata": {},
   "outputs": [],
   "source": [
    "network = buildNetwork(2, 1, 2)"
   ]
  },
  {
   "cell_type": "code",
   "execution_count": 12,
   "metadata": {},
   "outputs": [
    {
     "name": "stdout",
     "output_type": "stream",
     "text": [
      "[[{'output': 0.7594184628136014,\n",
      "   'weights': [0.5714025946899135, 0.4288890546751146, 0.5780913011344704]}],\n",
      " [{'output': 0.7250868186678797,\n",
      "   'weights': [0.20609823213950174, 0.81332125135732]},\n",
      "  {'output': 0.8077468842111606,\n",
      "   'weights': [0.8235888725334455, 0.6534725339011758]}]]\n"
     ]
    }
   ],
   "source": [
    "\n",
    "# def forwardPropagation(input_seeds_list,network, n_hidden, n_output):\n",
    "#     n_input = len(input_seeds_list[0])\n",
    "# #     myNetwork = buildNetwork(n_input, n_hidden, n_output)\n",
    "#     predictions = []\n",
    "# #     print(len(input_seeds_list))\n",
    "\n",
    "#     for i in range(len(input_seeds_list)):\n",
    "#         inputSeed = input_seeds_list[i]\n",
    "#         #Hidden layer calculations:\n",
    "#         hiddenLayerOutput = calculateOutput(inputSeed, network[0])\n",
    "#         hiddenLayerOutput = sigmoidActivation(hiddenLayerOutput)        \n",
    "#         #Output layer calculations:\n",
    "#         finalLayerOutput = calculateOutput(hiddenLayerOutput, network[1])\n",
    "#         finalLayerOutput = sigmoidActivation(finalLayerOutput)\n",
    "#         #Save the predictions\n",
    "#         predictions.append(finalLayerOutput)\n",
    "#     return predictions\n",
    "\n",
    "# def forwardPropagationNew(input_seeds_list, network):\n",
    "#     for i in range(len(input_seeds_list)):\n",
    "#         layerInput = input_seeds_list[i]\n",
    "#         for j in range(len(network)):\n",
    "#             layer = network[j]\n",
    "#             output = calculateOutput(layerInput, layer)\n",
    "#             layerInput = output\n",
    "\n",
    "def forwardPropagationSingle(input_seed, network):\n",
    "    layerInput = input_seed\n",
    "    for j in range(len(network)):\n",
    "        layer = network[j]\n",
    "        output = calculateOutput(layerInput, layer)\n",
    "        layerInput = output\n",
    "#     pp.pprint(output)\n",
    "    return output\n",
    "\n",
    "\n",
    "            \n",
    "# testInputSeedsList = [[1,0]]\n",
    "# forwardPropagationNew(testInputSeedsList, network)\n",
    "# print(network)\n",
    "testInputSeed = [1,0]\n",
    "forwardPropagationSingle(testInputSeed, network)\n",
    "pp.pprint(network)\n",
    "# for j in range(len(network)):\n",
    "#     layer = network[j]\n",
    "#     for eachNeuron in layer:\n",
    "#         print(eachNeuron['weights'])\n",
    "#         break"
   ]
  },
  {
   "cell_type": "code",
   "execution_count": 13,
   "metadata": {},
   "outputs": [],
   "source": [
    "# predictions = forwardPropagation(input_seeds_list,n_hidden=4, n_output=3)\n",
    "# for i in predictions:\n",
    "#     pp.pprint(i)\n",
    "#     break"
   ]
  },
  {
   "cell_type": "markdown",
   "metadata": {},
   "source": [
    "error = (expected - output_from_forward_propagation) * derivative(output_from_forward_propagation)"
   ]
  },
  {
   "cell_type": "code",
   "execution_count": 14,
   "metadata": {},
   "outputs": [],
   "source": [
    "# def calculateDerivative(predictions):\n",
    "#     derivative = []\n",
    "#     for each in predictions:\n",
    "#         derivative.append(each * (1 - each))\n",
    "#     return derivative\n",
    "\n",
    "# #test\n",
    "# testPredictions = [0.940540810659955, 0.8623106708953342, 0.9625189765256987]\n",
    "# testDerivatives = calculateDerivative(testPredictions)\n",
    "# print(testDerivatives)"
   ]
  },
  {
   "cell_type": "code",
   "execution_count": 15,
   "metadata": {},
   "outputs": [],
   "source": [
    "# def calculateError(predictions, expected):\n",
    "#     errors = []\n",
    "#     derivatives = calculateDerivative(predictions)\n",
    "#     for i in range(len(predictions)):\n",
    "#         errors.append((expected[i] - predictions[i]) * derivatives[i])\n",
    "#     return errors\n",
    "\n",
    "# #test\n",
    "# testPredictions = [0.940540810659955, 0.8623106708953342, 0.9625189765256987]\n",
    "# testExpected = [1,1,1]\n",
    "# testErrors = calculateError(testPredictions, testExpected)\n",
    "# print(testErrors)"
   ]
  },
  {
   "cell_type": "code",
   "execution_count": 16,
   "metadata": {},
   "outputs": [],
   "source": [
    "def sigmoidDerivative(x):\n",
    "    return (x*(1-x))"
   ]
  },
  {
   "cell_type": "code",
   "execution_count": 17,
   "metadata": {},
   "outputs": [
    {
     "name": "stdout",
     "output_type": "stream",
     "text": [
      "Here\n",
      "0.7250868186678797\n",
      "Here\n",
      "0.8077468842111606\n",
      "[' 1', ' 1', ' 1', ' 1', ' 1', ' 1', ' 1', ' 1', ' 1', ' 1', ' 1', ' 1', ' 1', ' 1', ' 1', ' 1', ' 1', ' 1', ' 1', ' 1', ' 1', ' 1', ' 1', ' 1', ' 1', ' 1', ' 1', ' 1', ' 1', ' 1', ' 1', ' 1', ' 1', ' 1', ' 1', ' 1', ' 1', ' 1', ' 1', ' 1', ' 1', ' 1', ' 1', ' 1', ' 1', ' 1', ' 1', ' 1', ' 1', ' 1', ' 1', ' 1', ' 1', ' 1', ' 1', ' 1', ' 1', ' 1', ' 1', ' 1', ' 1', ' 1', ' 1', ' 1', ' 1', ' 1', ' 1', ' 1', ' 1', ' 1', ' 2', ' 2', ' 2', ' 2', ' 2', ' 2', ' 2', ' 2', ' 2', ' 2', ' 2', ' 2', ' 2', ' 2', ' 2', ' 2', ' 2', ' 2', ' 2', ' 2', ' 2', ' 2', ' 2', ' 2', ' 2', ' 2', ' 2', ' 2', ' 2', ' 2', ' 2', ' 2', ' 2', ' 2', ' 2', ' 2', ' 2', ' 2', ' 2', ' 2', ' 2', ' 2', ' 2', ' 2', ' 2', ' 2', ' 2', ' 2', ' 2', ' 2', ' 2', ' 2', ' 2', ' 2', ' 2', ' 2', ' 2', ' 2', ' 2', ' 2', ' 2', ' 2', ' 2', ' 2', ' 2', ' 2', ' 2', ' 2', ' 2', ' 2', ' 3', ' 3', ' 3', ' 3', ' 3', ' 3', ' 3', ' 3', ' 3', ' 3', ' 3', ' 3', ' 3', ' 3', ' 3', ' 3', ' 3', ' 3', ' 3', ' 3', ' 3', ' 3', ' 3', ' 3', ' 3', ' 3', ' 3', ' 3', ' 3', ' 3', ' 3', ' 3', ' 3', ' 3', ' 3', ' 3', ' 3', ' 3', ' 3', ' 3', ' 3', ' 3', ' 3', ' 3', ' 3', ' 3', ' 3', ' 3', ' 3', ' 3', ' 3', ' 3', ' 3', ' 3', ' 3', ' 3', ' 3', ' 3', ' 3', ' 3', ' 3', ' 3', ' 3', ' 3', ' 3', ' 3', ' 3', ' 3', ' 3', ' 3']\n"
     ]
    }
   ],
   "source": [
    "# for each in network[1]:\n",
    "#     print('Here:')\n",
    "#     pp.pprint(each)\n",
    "lyr = network[1]\n",
    "for j in range(len(lyr)):\n",
    "    print('Here')\n",
    "    pp.pprint(lyr[j]['output'])\n",
    "print(expected)"
   ]
  },
  {
   "cell_type": "code",
   "execution_count": 18,
   "metadata": {},
   "outputs": [],
   "source": [
    "def backPropoagateError(network, expected):\n",
    "    for i in reversed(range(len(network))):\n",
    "        error = 0\n",
    "        layer = network[i]        \n",
    "        #For the output layer:\n",
    "        if i == (len(network) - 1):\n",
    "            for j in range(len(layer)):\n",
    "                error = expected[j] - layer[j]['output']\n",
    "                error = error * sigmoidDerivative(error)\n",
    "                layer[j]['delta'] = error\n",
    "#                 pp.pprint(str(j)+':'+str(error))\n",
    "        #for hidden layers:\n",
    "        else:\n",
    "            for j in range(len(layer)):\n",
    "                for eachNeuron in network[i+1]:\n",
    "                    error += eachNeuron['weights'][j] * eachNeuron['delta']\n",
    "                error = error * sigmoidDerivative(error)\n",
    "                layer[j]['delta'] = error"
   ]
  },
  {
   "cell_type": "code",
   "execution_count": 19,
   "metadata": {},
   "outputs": [
    {
     "ename": "TypeError",
     "evalue": "unsupported operand type(s) for -: 'str' and 'float'",
     "output_type": "error",
     "traceback": [
      "\u001b[0;31m---------------------------------------------------------------------------\u001b[0m",
      "\u001b[0;31mTypeError\u001b[0m                                 Traceback (most recent call last)",
      "\u001b[0;32m<ipython-input-19-217db6345ec0>\u001b[0m in \u001b[0;36m<module>\u001b[0;34m\u001b[0m\n\u001b[0;32m----> 1\u001b[0;31m \u001b[0mbackPropoagateError\u001b[0m\u001b[0;34m(\u001b[0m\u001b[0mnetwork\u001b[0m\u001b[0;34m,\u001b[0m \u001b[0mexpected\u001b[0m\u001b[0;34m)\u001b[0m\u001b[0;34m\u001b[0m\u001b[0;34m\u001b[0m\u001b[0m\n\u001b[0m\u001b[1;32m      2\u001b[0m \u001b[0mpp\u001b[0m\u001b[0;34m.\u001b[0m\u001b[0mpprint\u001b[0m\u001b[0;34m(\u001b[0m\u001b[0mnetwork\u001b[0m\u001b[0;34m)\u001b[0m\u001b[0;34m\u001b[0m\u001b[0;34m\u001b[0m\u001b[0m\n",
      "\u001b[0;32m<ipython-input-18-6c738b475483>\u001b[0m in \u001b[0;36mbackPropoagateError\u001b[0;34m(network, expected)\u001b[0m\n\u001b[1;32m      6\u001b[0m         \u001b[0;32mif\u001b[0m \u001b[0mi\u001b[0m \u001b[0;34m==\u001b[0m \u001b[0;34m(\u001b[0m\u001b[0mlen\u001b[0m\u001b[0;34m(\u001b[0m\u001b[0mnetwork\u001b[0m\u001b[0;34m)\u001b[0m \u001b[0;34m-\u001b[0m \u001b[0;36m1\u001b[0m\u001b[0;34m)\u001b[0m\u001b[0;34m:\u001b[0m\u001b[0;34m\u001b[0m\u001b[0;34m\u001b[0m\u001b[0m\n\u001b[1;32m      7\u001b[0m             \u001b[0;32mfor\u001b[0m \u001b[0mj\u001b[0m \u001b[0;32min\u001b[0m \u001b[0mrange\u001b[0m\u001b[0;34m(\u001b[0m\u001b[0mlen\u001b[0m\u001b[0;34m(\u001b[0m\u001b[0mlayer\u001b[0m\u001b[0;34m)\u001b[0m\u001b[0;34m)\u001b[0m\u001b[0;34m:\u001b[0m\u001b[0;34m\u001b[0m\u001b[0;34m\u001b[0m\u001b[0m\n\u001b[0;32m----> 8\u001b[0;31m                 \u001b[0merror\u001b[0m \u001b[0;34m=\u001b[0m \u001b[0mexpected\u001b[0m\u001b[0;34m[\u001b[0m\u001b[0mj\u001b[0m\u001b[0;34m]\u001b[0m \u001b[0;34m-\u001b[0m \u001b[0mlayer\u001b[0m\u001b[0;34m[\u001b[0m\u001b[0mj\u001b[0m\u001b[0;34m]\u001b[0m\u001b[0;34m[\u001b[0m\u001b[0;34m'output'\u001b[0m\u001b[0;34m]\u001b[0m\u001b[0;34m\u001b[0m\u001b[0;34m\u001b[0m\u001b[0m\n\u001b[0m\u001b[1;32m      9\u001b[0m                 \u001b[0merror\u001b[0m \u001b[0;34m=\u001b[0m \u001b[0merror\u001b[0m \u001b[0;34m*\u001b[0m \u001b[0msigmoidDerivative\u001b[0m\u001b[0;34m(\u001b[0m\u001b[0merror\u001b[0m\u001b[0;34m)\u001b[0m\u001b[0;34m\u001b[0m\u001b[0;34m\u001b[0m\u001b[0m\n\u001b[1;32m     10\u001b[0m                 \u001b[0mlayer\u001b[0m\u001b[0;34m[\u001b[0m\u001b[0mj\u001b[0m\u001b[0;34m]\u001b[0m\u001b[0;34m[\u001b[0m\u001b[0;34m'delta'\u001b[0m\u001b[0;34m]\u001b[0m \u001b[0;34m=\u001b[0m \u001b[0merror\u001b[0m\u001b[0;34m\u001b[0m\u001b[0;34m\u001b[0m\u001b[0m\n",
      "\u001b[0;31mTypeError\u001b[0m: unsupported operand type(s) for -: 'str' and 'float'"
     ]
    }
   ],
   "source": [
    "backPropoagateError(network, expected)\n",
    "pp.pprint(network)"
   ]
  },
  {
   "cell_type": "code",
   "execution_count": null,
   "metadata": {},
   "outputs": [],
   "source": [
    "# Update network weights with error\n",
    "def update_weights(network, input_features, l_rate):\n",
    "    for i in range(len(network)):\n",
    "        inputs = input_features[:-1]\n",
    "        print('input '+str(i)+':', inputs)\n",
    "        if i != 0:\n",
    "            inputs = [neuron['output'] for neuron in network[i - 1]]\n",
    "        for neuron in network[i]:\n",
    "            for j in range(len(inputs)):\n",
    "                neuron['weights'][j] += l_rate * neuron['delta'] * inputs[j]\n",
    "            neuron['weights'][-1] += l_rate * neuron['delta']\n",
    "    "
   ]
  },
  {
   "cell_type": "code",
   "execution_count": null,
   "metadata": {},
   "outputs": [],
   "source": [
    "testInputFeatures = [2.7810836,2.550537003]\n",
    "testLRate = 0.01\n",
    "update_weights(network, testInputFeatures, testLRate)\n",
    "pp.pprint(network)"
   ]
  },
  {
   "cell_type": "code",
   "execution_count": null,
   "metadata": {},
   "outputs": [],
   "source": [
    "for i in range(len(network)):\n",
    "    print(i)"
   ]
  },
  {
   "cell_type": "code",
   "execution_count": null,
   "metadata": {},
   "outputs": [],
   "source": [
    "# Train a network for a fixed number of epochs\n",
    "def train_network(network, train, l_rate, n_epoch, n_outputs):\n",
    "    for epoch in range(n_epoch):\n",
    "        sum_error = 0\n",
    "        for row in train:\n",
    "            outputs = forwardPropagationSingle(row, network)\n",
    "            print(outputs)\n",
    "            expected = [0 for i in range(n_outputs)]\n",
    "            expected[row[-1]] = 1\n",
    "            sum_error += sum([(expected[i]-outputs[i])**2 for i in range(len(expected))])\n",
    "            backward_propagate_error(network, expected)\n",
    "            update_weights(network, row, l_rate)\n",
    "        print('>epoch=%d, lrate=%.3f, error=%.3f' % (epoch, l_rate, sum_error))"
   ]
  },
  {
   "cell_type": "code",
   "execution_count": null,
   "metadata": {},
   "outputs": [],
   "source": [
    "seed(1)\n",
    "dataset = [ [2.7810836,2.550537003,0],\n",
    "            [1.465489372,2.362125076,0],\n",
    "            [3.396561688,4.400293529,0],\n",
    "            [1.38807019,1.850220317,0],\n",
    "            [3.06407232,3.005305973,0],\n",
    "            [7.627531214,2.759262235,1],\n",
    "            [5.332441248,2.088626775,1],\n",
    "            [6.922596716,1.77106367,1],\n",
    "            [8.675418651,-0.242068655,1],\n",
    "            [7.673756466,3.508563011,1]]\n",
    "n_inputs = len(dataset[0]) - 1\n",
    "n_outputs = len(set([row[-1] for row in dataset]))\n",
    "network = buildNetwork(n_inputs, 2, n_outputs)\n",
    "train_network(network, dataset, 0.5, 20, n_outputs)\n",
    "for layer in network:\n",
    "\tprint(layer)"
   ]
  },
  {
   "cell_type": "code",
   "execution_count": null,
   "metadata": {},
   "outputs": [],
   "source": []
  }
 ],
 "metadata": {
  "kernelspec": {
   "display_name": "Python 3",
   "language": "python",
   "name": "python3"
  },
  "language_info": {
   "codemirror_mode": {
    "name": "ipython",
    "version": 3
   },
   "file_extension": ".py",
   "mimetype": "text/x-python",
   "name": "python",
   "nbconvert_exporter": "python",
   "pygments_lexer": "ipython3",
   "version": "3.7.4"
  }
 },
 "nbformat": 4,
 "nbformat_minor": 2
}
